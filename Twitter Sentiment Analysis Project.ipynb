{
 "cells": [
  {
   "cell_type": "code",
   "execution_count": 1,
   "metadata": {},
   "outputs": [],
   "source": [
    "import tweepy\n",
    "import re\n",
    "import pickle"
   ]
  },
  {
   "cell_type": "code",
   "execution_count": 2,
   "metadata": {},
   "outputs": [],
   "source": [
    "from tweepy import OAuthHandler"
   ]
  },
  {
   "cell_type": "code",
   "execution_count": 3,
   "metadata": {},
   "outputs": [],
   "source": [
    "# Initialising the Keys\n",
    "consumer_key = '4LHdeUJ2DaBqcZ10mmsgnSdo2'\n",
    "consumer_secret = 'KTFAXcLtVxblP4CQ2owetEH8BpspRGfHs9ASAqP0OUQJRPIdGC'\n",
    "access_token = '2155427533-XtQDnv3Hzs1ROqIsk4hVMZ8E4x6dPw3Kpj40ShK'\n",
    "access_secret = 'qjpcQCtZ0csaSSAZ2pr41Ahd0aNwaJ0JV9r0ccRfHJSY3'"
   ]
  },
  {
   "cell_type": "code",
   "execution_count": 5,
   "metadata": {},
   "outputs": [],
   "source": [
    "# Client Authentication\n",
    "auth = OAuthHandler(consumer_key,consumer_secret)\n",
    "auth.set_access_token(access_token,access_secret)"
   ]
  },
  {
   "cell_type": "code",
   "execution_count": 6,
   "metadata": {},
   "outputs": [],
   "source": [
    "args = ['facebook']\n",
    "api = tweepy.API(auth,timeout=10)"
   ]
  },
  {
   "cell_type": "code",
   "execution_count": 8,
   "metadata": {},
   "outputs": [],
   "source": [
    "# Fetch Real time Tweets\n",
    "list_tweets = []\n",
    "query = args[0]\n",
    "\n",
    "if len(args) == 1:\n",
    "    for status in tweepy.Cursor(api.search,q=query+\" -filter:retweets\",lang='en',result_type='recent').items(100):\n",
    "        list_tweets.append(status.text)"
   ]
  },
  {
   "cell_type": "code",
   "execution_count": 11,
   "metadata": {},
   "outputs": [
    {
     "data": {
      "text/plain": [
       "100"
      ]
     },
     "execution_count": 11,
     "metadata": {},
     "output_type": "execute_result"
    }
   ],
   "source": [
    "len(list_tweets)"
   ]
  },
  {
   "cell_type": "code",
   "execution_count": 13,
   "metadata": {},
   "outputs": [],
   "source": [
    "# Loading TFIDF model and classifier\n",
    "with open('tfidfmodel.pickle','rb') as f:\n",
    "    tfidf=pickle.load(f)\n",
    "\n",
    "with open('classifier.pickle','rb') as f:\n",
    "    clf = pickle.load(f)"
   ]
  },
  {
   "cell_type": "code",
   "execution_count": 18,
   "metadata": {},
   "outputs": [],
   "source": [
    "# Data preprocessing and predicition\n",
    "\n",
    "total_pos = 0\n",
    "total_neg = 0\n",
    "\n",
    "for tweet in list_tweets:\n",
    "    # Removing all the link from start, in between of text and at end\n",
    "    tweet = re.sub(r\"^https://t.co/[a-zA-Z0-9]*\\s\",\" \",tweet)\n",
    "    tweet = re.sub(r\"\\s+https://t.co/[a-zA-Z0-9]*\\s\",\" \",tweet)\n",
    "    tweet = re.sub(r\"\\s+https://t.co/[a-zA-Z0-9]*$\",\" \",tweet)\n",
    "    tweet = tweet.lower()\n",
    "    tweet = re.sub(r\"that's\",\"that is\",tweet)\n",
    "    tweet = re.sub(r\"there's\",\"there is\",tweet)\n",
    "    tweet = re.sub(r\"what's\",\"what is\",tweet)\n",
    "    tweet = re.sub(r\"where's\",\"where is\",tweet)\n",
    "    tweet = re.sub(r\"it's\",\"it is\",tweet)\n",
    "    tweet = re.sub(r\"who's\",\"who is\",tweet)\n",
    "    tweet = re.sub(r\"i'm\",\"i am\",tweet)\n",
    "    tweet = re.sub(r\"she's\",\"she is\",tweet)\n",
    "    tweet = re.sub(r\"he's\",\"he is\",tweet)\n",
    "    tweet = re.sub(r\"they're\",\"they are\",tweet)\n",
    "    tweet = re.sub(r\"who're\",\"who are\",tweet)\n",
    "    tweet = re.sub(r\"ain't\",\"am not\",tweet)\n",
    "    tweet = re.sub(r\"wouldn't\",\"would not\",tweet)\n",
    "    tweet = re.sub(r\"shouldn't\",\"should not\",tweet)\n",
    "    tweet = re.sub(r\"can't\",\"can not\",tweet)\n",
    "    tweet = re.sub(r\"couldn't\",\"could not\",tweet)\n",
    "    tweet = re.sub(r\"won't\",\"will not\",tweet)\n",
    "    tweet = re.sub(r\"\\W\",\" \",tweet) # non word\n",
    "    tweet = re.sub(r\"\\d\",\" \",tweet) #digits\n",
    "    tweet = re.sub(r\"s+[a-z]\\s+\",\" \",tweet) # single charachter\n",
    "    tweet = re.sub(r\"\\s+[a-z]$\",\" \",tweet) # single charachter at end\n",
    "    tweet = re.sub(r\"^[a-z]\\s+\",\" \",tweet) # single charachter in start\n",
    "    tweet = re.sub(r\"\\s+\",\" \",tweet)\n",
    "    sent = clf.predict(tfidf.transform([tweet]).toarray())\n",
    "    if sent[0] == 1:\n",
    "        total_pos += 1\n",
    "    else:\n",
    "        total_neg += 1\n",
    "        "
   ]
  },
  {
   "cell_type": "code",
   "execution_count": 19,
   "metadata": {},
   "outputs": [
    {
     "data": {
      "image/png": "[encoded data removed]",
      "text/plain": [
       "<Figure size 432x288 with 1 Axes>"
      ]
     },
     "metadata": {
      "needs_background": "light"
     },
     "output_type": "display_data"
    }
   ],
   "source": [
    "# plotting the Number of positive and negative tweets\n",
    "import matplotlib.pyplot as plt\n",
    "import numpy as np\n",
    "objects = [\"Positive\",\"Negative\"]\n",
    "y_pos = np.arange(len(objects))\n",
    "\n",
    "plt.bar(y_pos,[total_pos,total_neg],alpha=0.5)\n",
    "plt.xticks(y_pos,objects)\n",
    "plt.ylabel('Number')\n",
    "plt.title('Number of Positive and Negative Tweets')\n",
    "\n",
    "plt.show()"
   ]
  },
  {
   "cell_type": "code",
   "execution_count": null,
   "metadata": {},
   "outputs": [],
   "source": []
  }
 ],
 "metadata": {
  "kernelspec": {
   "display_name": "Python 3",
   "language": "python",
   "name": "python3"
  },
  "language_info": {
   "codemirror_mode": {
    "name": "ipython",
    "version": 3
   },
   "file_extension": ".py",
   "mimetype": "text/x-python",
   "name": "python",
   "nbconvert_exporter": "python",
   "pygments_lexer": "ipython3",
   "version": "3.5.6"
  }
 },
 "nbformat": 4,
 "nbformat_minor": 2
}
